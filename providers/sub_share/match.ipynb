{
 "cells": [
  {
   "cell_type": "code",
   "execution_count": 1,
   "metadata": {},
   "outputs": [],
   "source": [
    "from SagasuSubs.database import FileCrud,DialogCrud,dto,SeriesCrud,EpisodeCrud\n",
    "from SagasuSubs.api.utils import NotebookAPIUtils\n",
    "\n",
    "from pathlib import Path"
   ]
  },
  {
   "cell_type": "code",
   "execution_count": 2,
   "metadata": {},
   "outputs": [],
   "source": [
    "DB_PATH = Path('.') / 'db.sqlite3'\n",
    "\n",
    "file_crud = FileCrud(DB_PATH)\n",
    "dialog_crud =DialogCrud(DB_PATH)\n",
    "series_crud = SeriesCrud(DB_PATH)\n",
    "episode_crud = EpisodeCrud(DB_PATH)"
   ]
  },
  {
   "cell_type": "code",
   "execution_count": 3,
   "metadata": {},
   "outputs": [
    {
     "data": {
      "text/plain": [
       "(SeriesCreate(id=11017, name='魔法少女まどか☆マギカ'),\n",
       " [EpisodeCreate(id=131114, name='夢の中で会った、ような……', sort=1.0, type=0, series_id=11017),\n",
       "  EpisodeCreate(id=131115, name='コネクト', sort=1.0, type=2, series_id=11017),\n",
       "  EpisodeCreate(id=131116, name='Magia', sort=1.0, type=3, series_id=11017),\n",
       "  EpisodeCreate(id=131117, name='それはとっても嬉しいなって', sort=2.0, type=0, series_id=11017),\n",
       "  EpisodeCreate(id=131118, name='もう何も恐くない', sort=3.0, type=0, series_id=11017),\n",
       "  EpisodeCreate(id=131119, name='奇跡も、魔法も、あるんだよ', sort=4.0, type=0, series_id=11017),\n",
       "  EpisodeCreate(id=131120, name='後悔なんて あるわけない', sort=5.0, type=0, series_id=11017),\n",
       "  EpisodeCreate(id=131121, name='こんなの絶対おかしいよ', sort=6.0, type=0, series_id=11017),\n",
       "  EpisodeCreate(id=131122, name='本当の気持ちと向き合えますか？', sort=7.0, type=0, series_id=11017),\n",
       "  EpisodeCreate(id=131123, name='あたしって、ほんとバカ', sort=8.0, type=0, series_id=11017),\n",
       "  EpisodeCreate(id=131124, name='そんなの、あたしが許さない', sort=9.0, type=0, series_id=11017),\n",
       "  EpisodeCreate(id=131125, name='もう誰にも頼らない', sort=10.0, type=0, series_id=11017),\n",
       "  EpisodeCreate(id=131126, name='最後に残った道しるべ', sort=11.0, type=0, series_id=11017),\n",
       "  EpisodeCreate(id=131127, name='わたしの、最高の友達', sort=12.0, type=0, series_id=11017)])"
      ]
     },
     "execution_count": 3,
     "metadata": {},
     "output_type": "execute_result"
    }
   ],
   "source": [
    "api = NotebookAPIUtils('http://localhost:3000')\n",
    "\n",
    "api.search('魔法少女小圆'),api.episodes(11017)"
   ]
  },
  {
   "cell_type": "code",
   "execution_count": 4,
   "metadata": {},
   "outputs": [],
   "source": [
    "try:\n",
    "    series_crud.create_table()\n",
    "    episode_crud.create_table()\n",
    "except Exception as e:\n",
    "    print(e)"
   ]
  },
  {
   "cell_type": "code",
   "execution_count": 5,
   "metadata": {},
   "outputs": [
    {
     "data": {
      "application/vnd.jupyter.widget-view+json": {
       "model_id": "a7ca86185ab447a5adfc709a353e14c3",
       "version_major": 2,
       "version_minor": 0
      },
      "text/plain": [
       "  0%|          | 0/45730 [00:00<?, ?it/s]"
      ]
     },
     "metadata": {},
     "output_type": "display_data"
    }
   ],
   "source": [
    "from tqdm.notebook import tqdm\n",
    "from typing import Dict\n",
    "\n",
    "files = tqdm(file_crud)\n",
    "\n",
    "for count,file in enumerate(files):\n",
    "    file:dto.FileRead\n",
    "    if not file.series_name:\n",
    "        continue\n",
    "\n",
    "    series = api.search(file.series_name) \n",
    "    if not series:\n",
    "        continue\n",
    "\n",
    "    if not series_crud.read(series.id):\n",
    "        series_crud.create(series)\n",
    "\n",
    "    for episode in api.episodes(series.id):\n",
    "        if not episode_crud.read(episode.id):\n",
    "            episode_crud.create(episode)\n",
    "\n",
    "    file.series_id = series.id\n",
    "    file_crud.update(file)\n",
    "    \n",
    "    files.set_description(f'{file.id=}, {file.series_name}, {series.name}')\n"
   ]
  }
 ],
 "metadata": {
  "kernelspec": {
   "display_name": "Python 3",
   "language": "python",
   "name": "python3"
  },
  "language_info": {
   "codemirror_mode": {
    "name": "ipython",
    "version": 3
   },
   "file_extension": ".py",
   "mimetype": "text/x-python",
   "name": "python",
   "nbconvert_exporter": "python",
   "pygments_lexer": "ipython3",
   "version": "3.9.6"
  }
 },
 "nbformat": 4,
 "nbformat_minor": 2
}
