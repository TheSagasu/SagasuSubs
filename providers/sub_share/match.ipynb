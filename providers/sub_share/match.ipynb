{
 "cells": [
  {
   "cell_type": "code",
   "execution_count": 1,
   "metadata": {},
   "outputs": [],
   "source": [
    "from SagasuSubs.database import FileCrud,DialogCrud,dto,SeriesCrud,EpisodeCrud\n",
    "from pathlib import Path\n",
    "\n",
    "from functools import lru_cache\n",
    "\n",
    "import requests"
   ]
  },
  {
   "cell_type": "code",
   "execution_count": 2,
   "metadata": {},
   "outputs": [],
   "source": [
    "DB_PATH = Path('.') / 'db.sqlite3'\n",
    "\n",
    "file_crud = FileCrud(DB_PATH)\n",
    "dialog_crud =DialogCrud(DB_PATH)\n",
    "series_crud = SeriesCrud(DB_PATH)\n",
    "episode_crud = EpisodeCrud(DB_PATH)"
   ]
  },
  {
   "cell_type": "code",
   "execution_count": 3,
   "metadata": {},
   "outputs": [
    {
     "data": {
      "text/plain": [
       "SeriesCreate(id=11017, name='魔法少女まどか☆マギカ')"
      ]
     },
     "execution_count": 3,
     "metadata": {},
     "output_type": "execute_result"
    }
   ],
   "source": [
    "@lru_cache(maxsize=16)\n",
    "def serialize_serach_result(keyword:str):\n",
    "    response = requests.get(f'http://127.0.0.1:3000/api/series/search?keyword={keyword}&fields=name&fields=name_cn&fields=description&from=0&size=20')\n",
    "    data = response.json()\n",
    "    for result in data['results']:\n",
    "        return dto.SeriesCreate(id=result['info']['id'],name=result['info']['name'])\n",
    "    return\n",
    "\n",
    "serialize_serach_result('魔法少女小圆')"
   ]
  },
  {
   "cell_type": "code",
   "execution_count": 4,
   "metadata": {},
   "outputs": [
    {
     "data": {
      "text/plain": [
       "[EpisodeCreate(id=131114, name='夢の中で会った、ような……', sort=1.0, type=0, series_id=11017),\n",
       " EpisodeCreate(id=131115, name='コネクト', sort=1.0, type=2, series_id=11017),\n",
       " EpisodeCreate(id=131116, name='Magia', sort=1.0, type=3, series_id=11017),\n",
       " EpisodeCreate(id=131117, name='それはとっても嬉しいなって', sort=2.0, type=0, series_id=11017),\n",
       " EpisodeCreate(id=131118, name='もう何も恐くない', sort=3.0, type=0, series_id=11017),\n",
       " EpisodeCreate(id=131119, name='奇跡も、魔法も、あるんだよ', sort=4.0, type=0, series_id=11017),\n",
       " EpisodeCreate(id=131120, name='後悔なんて あるわけない', sort=5.0, type=0, series_id=11017),\n",
       " EpisodeCreate(id=131121, name='こんなの絶対おかしいよ', sort=6.0, type=0, series_id=11017),\n",
       " EpisodeCreate(id=131122, name='本当の気持ちと向き合えますか？', sort=7.0, type=0, series_id=11017),\n",
       " EpisodeCreate(id=131123, name='あたしって、ほんとバカ', sort=8.0, type=0, series_id=11017),\n",
       " EpisodeCreate(id=131124, name='そんなの、あたしが許さない', sort=9.0, type=0, series_id=11017),\n",
       " EpisodeCreate(id=131125, name='もう誰にも頼らない', sort=10.0, type=0, series_id=11017),\n",
       " EpisodeCreate(id=131126, name='最後に残った道しるべ', sort=11.0, type=0, series_id=11017),\n",
       " EpisodeCreate(id=131127, name='わたしの、最高の友達', sort=12.0, type=0, series_id=11017)]"
      ]
     },
     "execution_count": 4,
     "metadata": {},
     "output_type": "execute_result"
    }
   ],
   "source": [
    "@lru_cache(maxsize=16)\n",
    "def get_series_episodes(id:int):\n",
    "    response = requests.get(f'http://127.0.0.1:3000/api/series/{id}')\n",
    "    data = response.json()\n",
    "    return [dto.EpisodeCreate.parse_obj({**episode,'series_id':id}) for episode in data['episodes']]\n",
    "\n",
    "get_series_episodes(11017)"
   ]
  },
  {
   "cell_type": "code",
   "execution_count": 5,
   "metadata": {},
   "outputs": [
    {
     "name": "stdout",
     "output_type": "stream",
     "text": [
      "(sqlite3.OperationalError) table series already exists\n",
      "[SQL: \n",
      "CREATE TABLE series (\n",
      "\tid INTEGER NOT NULL, \n",
      "\tname VARCHAR NOT NULL, \n",
      "\tPRIMARY KEY (id)\n",
      ")\n",
      "\n",
      "]\n",
      "(Background on this error at: https://sqlalche.me/e/14/e3q8)\n"
     ]
    }
   ],
   "source": [
    "try:\n",
    "    series_crud.create_table()\n",
    "    episode_crud.create_table()\n",
    "except Exception as e:\n",
    "    print(e)"
   ]
  },
  {
   "cell_type": "code",
   "execution_count": 10,
   "metadata": {},
   "outputs": [
    {
     "data": {
      "application/vnd.jupyter.widget-view+json": {
       "model_id": "07483de8dc0545058ed0a34fd8980511",
       "version_major": 2,
       "version_minor": 0
      },
      "text/plain": [
       "  0%|          | 0/41103 [00:00<?, ?it/s]"
      ]
     },
     "metadata": {},
     "output_type": "display_data"
    }
   ],
   "source": [
    "from tqdm.notebook import tqdm\n",
    "from typing import Dict\n",
    "\n",
    "files = tqdm(file_crud)\n",
    "\n",
    "for count,file in enumerate(files):\n",
    "    file:dto.FileRead\n",
    "    if not file.series_name:\n",
    "        continue\n",
    "\n",
    "    series = serialize_serach_result(file.series_name) \n",
    "    if not series:\n",
    "        continue\n",
    "\n",
    "    if not series_crud.read(series.id):\n",
    "        series_crud.create(series)\n",
    "\n",
    "    for episode in get_series_episodes(series.id):\n",
    "        if not episode_crud.read(episode.id):\n",
    "            episode_crud.create(episode)\n",
    "\n",
    "    file.series_id = series.id\n",
    "    file_crud.update(file)\n",
    "    \n",
    "    files.set_description(f'{file.id=}, {file.series_name}, {series.name}')\n"
   ]
  },
  {
   "cell_type": "code",
   "execution_count": null,
   "metadata": {},
   "outputs": [],
   "source": []
  }
 ],
 "metadata": {
  "kernelspec": {
   "display_name": "Python 3",
   "language": "python",
   "name": "python3"
  },
  "language_info": {
   "codemirror_mode": {
    "name": "ipython",
    "version": 3
   },
   "file_extension": ".py",
   "mimetype": "text/x-python",
   "name": "python",
   "nbconvert_exporter": "python",
   "pygments_lexer": "ipython3",
   "version": "3.9.6"
  }
 },
 "nbformat": 4,
 "nbformat_minor": 2
}
