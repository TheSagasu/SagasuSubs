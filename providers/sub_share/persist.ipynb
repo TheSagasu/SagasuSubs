{
 "cells": [
  {
   "cell_type": "code",
   "execution_count": 1,
   "metadata": {},
   "outputs": [],
   "source": [
    "from SagasuSubs import utils,models,patch\n",
    "from pathlib import Path\n",
    "\n",
    "patch.patch()"
   ]
  },
  {
   "cell_type": "code",
   "execution_count": 2,
   "metadata": {},
   "outputs": [
    {
     "data": {
      "text/plain": [
       "[PosixPath('subtitles/subs_list/animation/1970/(1970.4.1)明日之丈 第1季/BD/冷番补完字幕组/[冷番补完][明日之丈][あしたのジョー][01][480P][简体外挂].ass'),\n",
       " PosixPath('subtitles/subs_list/animation/1970/(1970.4.1)明日之丈 第1季/BD/冷番补完字幕组/[冷番补完][明日之丈][あしたのジョー][02][480P][简体外挂].ass'),\n",
       " PosixPath('subtitles/subs_list/animation/1970/(1970.4.1)明日之丈 第1季/BD/冷番补完字幕组/[冷番补完][明日之丈][あしたのジョー][03][480P][简体外挂].ass'),\n",
       " PosixPath('subtitles/subs_list/animation/1970/(1970.4.1)明日之丈 第1季/BD/冷番补完字幕组/[冷番补完][明日之丈][あしたのジョー][04][480P][简体外挂].ass'),\n",
       " PosixPath('subtitles/subs_list/animation/1970/(1970.4.1)明日之丈 第1季/BD/冷番补完字幕组/[冷番补完][明日之丈][あしたのジョー][05][480P][简体外挂].ass')]"
      ]
     },
     "execution_count": 2,
     "metadata": {},
     "output_type": "execute_result"
    }
   ],
   "source": [
    "workdir = Path('.') / 'subtitles' / 'subs_list'\n",
    "\n",
    "files = [*utils.iterate_files(workdir,'.ass')]\n",
    "\n",
    "files[:5]"
   ]
  },
  {
   "cell_type": "code",
   "execution_count": 3,
   "metadata": {},
   "outputs": [
    {
     "name": "stderr",
     "output_type": "stream",
     "text": [
      "Traceback (most recent call last):\n",
      "  File \"/home/mix/Documents/SagasuSubs/.venv/lib/python3.9/site-packages/sqlalchemy/engine/default.py\", line 717, in do_execute\n",
      "    cursor.execute(statement, parameters)\n",
      "sqlite3.OperationalError: table files already exists\n",
      "\n",
      "The above exception was the direct cause of the following exception:\n",
      "\n",
      "Traceback (most recent call last):\n",
      "  File \"/home/mix/Documents/SagasuSubs/.venv/lib/python3.9/site-packages/sqlalchemy/engine/default.py\", line 717, in do_execute\n",
      "    cursor.execute(statement, parameters)\n",
      "sqlalchemy.exc.OperationalError: (sqlite3.OperationalError) table files already exists\n",
      "[SQL: \n",
      "CREATE TABLE files (\n",
      "\tid INTEGER NOT NULL, \n",
      "\tfilename VARCHAR(1024) NOT NULL, \n",
      "\tsha1 VARCHAR(40) NOT NULL, \n",
      "\tpath VARCHAR NOT NULL, \n",
      "\tseries_name VARCHAR, \n",
      "\tseries_id INTEGER, \n",
      "\tepisode_name VARCHAR, \n",
      "\tepisode_id INTEGER, \n",
      "\tPRIMARY KEY (id), \n",
      "\tFOREIGN KEY(series_id) REFERENCES series (id), \n",
      "\tFOREIGN KEY(episode_id) REFERENCES episode (id)\n",
      ")\n",
      "\n",
      "]\n",
      "(Background on this error at: https://sqlalche.me/e/14/e3q8)\n"
     ]
    }
   ],
   "source": [
    "from tqdm.notebook import tqdm\n",
    "from traceback import format_exc,print_exc\n",
    "import re\n",
    "\n",
    "from SagasuSubs.database import FileCrud,DialogCrud,dto\n",
    "\n",
    "DB_PATH = Path('.') / 'db.sqlite3'\n",
    "file_crud = FileCrud(DB_PATH)\n",
    "dialog_crud =DialogCrud(DB_PATH)\n",
    "\n",
    "\n",
    "try:\n",
    "    file_crud.create_table()\n",
    "    dialog_crud.create_table()\n",
    "except Exception as e:\n",
    "    print_exc(-1)\n",
    "\n",
    "PATH_REGEX = re.compile(\n",
    "    r'^.+/(?P<year>\\d+?)/\\((?P<date>[0-9.]+?)\\)(?P<name>.+?)/(?P<child_path>.+)$'\n",
    ")"
   ]
  },
  {
   "cell_type": "code",
   "execution_count": 5,
   "metadata": {
    "scrolled": true
   },
   "outputs": [
    {
     "data": {
      "application/vnd.jupyter.widget-view+json": {
       "model_id": "a3a203796c2642b7b1e90122951e8bbe",
       "version_major": 2,
       "version_minor": 0
      },
      "text/plain": [
       "  0%|          | 0/10191 [00:00<?, ?it/s]"
      ]
     },
     "metadata": {},
     "output_type": "display_data"
    },
    {
     "name": "stderr",
     "output_type": "stream",
     "text": [
      "/home/mix/Documents/SagasuSubs/SagasuSubs/patch.py:59: UserWarning: Failed to parse field f='start',v='0:00:-1.00' due to AttributeError(\"'NoneType' object has no attribute 'groups'\"), fallback to None\n",
      "  warn(f\"Failed to parse field {f=!r},{v=!r} due to {e!r}, fallback to None\")\n",
      "/home/mix/Documents/SagasuSubs/SagasuSubs/patch.py:59: UserWarning: Failed to parse field f='end',v='0:00:-1.00' due to AttributeError(\"'NoneType' object has no attribute 'groups'\"), fallback to None\n",
      "  warn(f\"Failed to parse field {f=!r},{v=!r} due to {e!r}, fallback to None\")\n",
      "/home/mix/Documents/SagasuSubs/SagasuSubs/patch.py:59: UserWarning: Failed to parse field f='start',v='0:00:00.-13' due to AttributeError(\"'NoneType' object has no attribute 'groups'\"), fallback to None\n",
      "  warn(f\"Failed to parse field {f=!r},{v=!r} due to {e!r}, fallback to None\")\n",
      "/home/mix/Documents/SagasuSubs/SagasuSubs/patch.py:59: UserWarning: Failed to parse field f='end',v='0:00:00.-13' due to AttributeError(\"'NoneType' object has no attribute 'groups'\"), fallback to None\n",
      "  warn(f\"Failed to parse field {f=!r},{v=!r} due to {e!r}, fallback to None\")\n"
     ]
    },
    {
     "name": "stdout",
     "output_type": "stream",
     "text": [
      "Error occurred during processing file subtitles/subs_list/animation/2019/(2019.10.5)战×恋/BD/[MMSUB] Val x Love_01-12_END/SC/[MMSUB] Val x Love - 07 [WebRip 1080p AVC-8bit AAC ASSx2].SC.ass:\n",
      "-->\tTraceback (most recent call last):\n",
      "-->\t  File \"/tmp/ipykernel_14687/417691176.py\", line 9, in <module>\n",
      "-->\t    data = models.SubtitlePersist.from_file(file,format='ass',exclude_fx=True)\n",
      "-->\t  File \"/home/mix/Documents/SagasuSubs/SagasuSubs/models.py\", line 58, in from_file\n",
      "-->\t    DialogContent(\n",
      "-->\t  File \"pydantic/main.py\", line 406, in pydantic.main.BaseModel.__init__\n",
      "-->\tpydantic.error_wrappers.ValidationError: 2 validation errors for DialogContent\n",
      "-->\tbegin\n",
      "-->\t  none is not an allowed value (type=type_error.none.not_allowed)\n",
      "-->\tend\n",
      "-->\t  none is not an allowed value (type=type_error.none.not_allowed)\n",
      "Error occurred during processing file subtitles/subs_list/animation/2019/(2019.10.5)战×恋/BD/[MMSUB] Val x Love_01-12_END/SC/[MMSUB] Val x Love - 08 [WebRip 1080p AVC-8bit AAC ASSx2].SC.ass:\n",
      "-->\tTraceback (most recent call last):\n",
      "-->\t  File \"/tmp/ipykernel_14687/417691176.py\", line 9, in <module>\n",
      "-->\t    data = models.SubtitlePersist.from_file(file,format='ass',exclude_fx=True)\n",
      "-->\t  File \"/home/mix/Documents/SagasuSubs/SagasuSubs/models.py\", line 58, in from_file\n",
      "-->\t    DialogContent(\n",
      "-->\t  File \"pydantic/main.py\", line 406, in pydantic.main.BaseModel.__init__\n",
      "-->\tpydantic.error_wrappers.ValidationError: 2 validation errors for DialogContent\n",
      "-->\tbegin\n",
      "-->\t  none is not an allowed value (type=type_error.none.not_allowed)\n",
      "-->\tend\n",
      "-->\t  none is not an allowed value (type=type_error.none.not_allowed)\n",
      "Error occurred during processing file subtitles/subs_list/animation/2019/(2019.10.5)战×恋/BD/[MMSUB] Val x Love_01-12_END/SC/[MMSUB] Val x Love - 09 [WebRip 1080p AVC-8bit AAC ASSx2].SC.ass:\n",
      "-->\tTraceback (most recent call last):\n",
      "-->\t  File \"/tmp/ipykernel_14687/417691176.py\", line 9, in <module>\n",
      "-->\t    data = models.SubtitlePersist.from_file(file,format='ass',exclude_fx=True)\n",
      "-->\t  File \"/home/mix/Documents/SagasuSubs/SagasuSubs/models.py\", line 58, in from_file\n",
      "-->\t    DialogContent(\n",
      "-->\t  File \"pydantic/main.py\", line 406, in pydantic.main.BaseModel.__init__\n",
      "-->\tpydantic.error_wrappers.ValidationError: 2 validation errors for DialogContent\n",
      "-->\tbegin\n",
      "-->\t  none is not an allowed value (type=type_error.none.not_allowed)\n",
      "-->\tend\n",
      "-->\t  none is not an allowed value (type=type_error.none.not_allowed)\n",
      "Error occurred during processing file subtitles/subs_list/animation/2019/(2019.10.5)战×恋/BD/[MMSUB] Val x Love_01-12_END/SC/[MMSUB] Val x Love - 12 [WebRip 1080p AVC-8bit AAC ASSx2].SC.ass:\n",
      "-->\tTraceback (most recent call last):\n",
      "-->\t  File \"/tmp/ipykernel_14687/417691176.py\", line 9, in <module>\n",
      "-->\t    data = models.SubtitlePersist.from_file(file,format='ass',exclude_fx=True)\n",
      "-->\t  File \"/home/mix/Documents/SagasuSubs/SagasuSubs/models.py\", line 58, in from_file\n",
      "-->\t    DialogContent(\n",
      "-->\t  File \"pydantic/main.py\", line 406, in pydantic.main.BaseModel.__init__\n",
      "-->\tpydantic.error_wrappers.ValidationError: 2 validation errors for DialogContent\n",
      "-->\tbegin\n",
      "-->\t  none is not an allowed value (type=type_error.none.not_allowed)\n",
      "-->\tend\n",
      "-->\t  none is not an allowed value (type=type_error.none.not_allowed)\n",
      "Error occurred during processing file subtitles/subs_list/animation/2019/(2019.10.5)战×恋/BD/[MMSUB] Val x Love_01-12_END/TC/[MMSUB] Val x Love - 07 [WebRip 1080p AVC-8bit AAC ASSx2].TC.ass:\n",
      "-->\tTraceback (most recent call last):\n",
      "-->\t  File \"/tmp/ipykernel_14687/417691176.py\", line 9, in <module>\n",
      "-->\t    data = models.SubtitlePersist.from_file(file,format='ass',exclude_fx=True)\n",
      "-->\t  File \"/home/mix/Documents/SagasuSubs/SagasuSubs/models.py\", line 58, in from_file\n",
      "-->\t    DialogContent(\n",
      "-->\t  File \"pydantic/main.py\", line 406, in pydantic.main.BaseModel.__init__\n",
      "-->\tpydantic.error_wrappers.ValidationError: 2 validation errors for DialogContent\n",
      "-->\tbegin\n",
      "-->\t  none is not an allowed value (type=type_error.none.not_allowed)\n",
      "-->\tend\n",
      "-->\t  none is not an allowed value (type=type_error.none.not_allowed)\n",
      "Error occurred during processing file subtitles/subs_list/animation/2019/(2019.10.5)战×恋/BD/[MMSUB] Val x Love_01-12_END/TC/[MMSUB] Val x Love - 08 [WebRip 1080p AVC-8bit AAC ASSx2].TC.ass:\n",
      "-->\tTraceback (most recent call last):\n",
      "-->\t  File \"/tmp/ipykernel_14687/417691176.py\", line 9, in <module>\n",
      "-->\t    data = models.SubtitlePersist.from_file(file,format='ass',exclude_fx=True)\n",
      "-->\t  File \"/home/mix/Documents/SagasuSubs/SagasuSubs/models.py\", line 58, in from_file\n",
      "-->\t    DialogContent(\n",
      "-->\t  File \"pydantic/main.py\", line 406, in pydantic.main.BaseModel.__init__\n",
      "-->\tpydantic.error_wrappers.ValidationError: 2 validation errors for DialogContent\n",
      "-->\tbegin\n",
      "-->\t  none is not an allowed value (type=type_error.none.not_allowed)\n",
      "-->\tend\n",
      "-->\t  none is not an allowed value (type=type_error.none.not_allowed)\n",
      "Error occurred during processing file subtitles/subs_list/animation/2019/(2019.10.5)战×恋/BD/[MMSUB] Val x Love_01-12_END/TC/[MMSUB] Val x Love - 09 [WebRip 1080p AVC-8bit AAC ASSx2].TC.ass:\n",
      "-->\tTraceback (most recent call last):\n",
      "-->\t  File \"/tmp/ipykernel_14687/417691176.py\", line 9, in <module>\n",
      "-->\t    data = models.SubtitlePersist.from_file(file,format='ass',exclude_fx=True)\n",
      "-->\t  File \"/home/mix/Documents/SagasuSubs/SagasuSubs/models.py\", line 58, in from_file\n",
      "-->\t    DialogContent(\n",
      "-->\t  File \"pydantic/main.py\", line 406, in pydantic.main.BaseModel.__init__\n",
      "-->\tpydantic.error_wrappers.ValidationError: 2 validation errors for DialogContent\n",
      "-->\tbegin\n",
      "-->\t  none is not an allowed value (type=type_error.none.not_allowed)\n",
      "-->\tend\n",
      "-->\t  none is not an allowed value (type=type_error.none.not_allowed)\n",
      "Error occurred during processing file subtitles/subs_list/animation/2019/(2019.10.5)战×恋/BD/[MMSUB] Val x Love_01-12_END/TC/[MMSUB] Val x Love - 12 [WebRip 1080p AVC-8bit AAC ASSx2].TC.ass:\n",
      "-->\tTraceback (most recent call last):\n",
      "-->\t  File \"/tmp/ipykernel_14687/417691176.py\", line 9, in <module>\n",
      "-->\t    data = models.SubtitlePersist.from_file(file,format='ass',exclude_fx=True)\n",
      "-->\t  File \"/home/mix/Documents/SagasuSubs/SagasuSubs/models.py\", line 58, in from_file\n",
      "-->\t    DialogContent(\n",
      "-->\t  File \"pydantic/main.py\", line 406, in pydantic.main.BaseModel.__init__\n",
      "-->\tpydantic.error_wrappers.ValidationError: 2 validation errors for DialogContent\n",
      "-->\tbegin\n",
      "-->\t  none is not an allowed value (type=type_error.none.not_allowed)\n",
      "-->\tend\n",
      "-->\t  none is not an allowed value (type=type_error.none.not_allowed)\n"
     ]
    },
    {
     "name": "stderr",
     "output_type": "stream",
     "text": [
      "/home/mix/Documents/SagasuSubs/SagasuSubs/patch.py:59: UserWarning: Failed to parse field f='layer',v='Marked=0' due to ValueError(\"invalid literal for int() with base 10: 'Marked=0'\"), fallback to None\n",
      "  warn(f\"Failed to parse field {f=!r},{v=!r} due to {e!r}, fallback to None\")\n",
      "/home/mix/Documents/SagasuSubs/SagasuSubs/patch.py:59: UserWarning: Failed to parse field f='marginl',v='{\\\\fn@方正准雅宋_GBK\\\\fs40\\\\blur3\\\\frz270\\\\pos(740' due to ValueError(\"invalid literal for int() with base 10: '{\\\\\\\\fn@方正准雅宋_GBK\\\\\\\\fs40\\\\\\\\blur3\\\\\\\\frz270\\\\\\\\pos(740'\"), fallback to None\n",
      "  warn(f\"Failed to parse field {f=!r},{v=!r} due to {e!r}, fallback to None\")\n",
      "/home/mix/Documents/SagasuSubs/SagasuSubs/patch.py:59: UserWarning: Failed to parse field f='marginr',v='390)}五彩斑斕少女心' due to ValueError(\"invalid literal for int() with base 10: '390)}五彩斑斕少女心'\"), fallback to None\n",
      "  warn(f\"Failed to parse field {f=!r},{v=!r} due to {e!r}, fallback to None\")\n",
      "/home/mix/Documents/SagasuSubs/SagasuSubs/patch.py:59: UserWarning: Failed to parse field f='encoding',v='' due to ValueError(\"invalid literal for int() with base 10: ''\"), fallback to None\n",
      "  warn(f\"Failed to parse field {f=!r},{v=!r} due to {e!r}, fallback to None\")\n"
     ]
    }
   ],
   "source": [
    "progress = tqdm(files)\n",
    "\n",
    "skipped = 0\n",
    "\n",
    "for count,file in enumerate(progress):\n",
    "    progress.set_description(f'{file=} ,{skipped=}, {skipped/(count+1)=:.3%}')\n",
    "    \n",
    "    try:\n",
    "        data = models.SubtitlePersist.from_file(file,format='ass',exclude_fx=True)\n",
    "    except Exception:\n",
    "        progress.write(\n",
    "            '\\n-->\\t'.join(\n",
    "                [f'Error occurred during processing file {file}:'] +\n",
    "                format_exc(-3).splitlines()\n",
    "            )\n",
    "        )\n",
    "        skipped += 1\n",
    "        continue\n",
    "\n",
    "    if not (matched := PATH_REGEX.match(str(file))):\n",
    "        progress.write(f'{data.path=} does not have valid regex data, skip')\n",
    "        skipped += 1\n",
    "        continue\n",
    "\n",
    "    if existed_file := file_crud.read_by_sha1(data.sha1):\n",
    "        skipped += 1\n",
    "        continue\n",
    "        \n",
    "    file_model = file_crud.create(dto.FileCreate(\n",
    "        filename=data.filename,\n",
    "        sha1=data.sha1,\n",
    "        path=str(data.path),\n",
    "        series_name=matched.group('name')\n",
    "        )\n",
    "    )\n",
    "\n",
    "    dialog_crud.create_bulk(\n",
    "            [\n",
    "                dto.DialogCreate(content=dialog.content,begin=dialog.begin,end=dialog.end,file_id=file_model.id)\n",
    "                for dialog in data.dialogs\n",
    "            ]\n",
    "        )\n",
    "        "
   ]
  },
  {
   "cell_type": "code",
   "execution_count": null,
   "metadata": {},
   "outputs": [],
   "source": []
  }
 ],
 "metadata": {
  "celltoolbar": "编辑元数据",
  "interpreter": {
   "hash": "94b97ca9afb22a60df64d5cc1a75d324a151f84ccc597059da211347460b5a31"
  },
  "kernelspec": {
   "display_name": "Python 3",
   "language": "python",
   "name": "python3"
  },
  "language_info": {
   "codemirror_mode": {
    "name": "ipython",
    "version": 3
   },
   "file_extension": ".py",
   "mimetype": "text/x-python",
   "name": "python",
   "nbconvert_exporter": "python",
   "pygments_lexer": "ipython3",
   "version": "3.9.6"
  }
 },
 "nbformat": 4,
 "nbformat_minor": 2
}
