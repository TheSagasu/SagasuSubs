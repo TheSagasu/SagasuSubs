{
 "cells": [
  {
   "cell_type": "code",
   "execution_count": 1,
   "metadata": {},
   "outputs": [],
   "source": [
    "%load_ext blackcellmagic"
   ]
  },
  {
   "cell_type": "code",
   "execution_count": 2,
   "metadata": {},
   "outputs": [
    {
     "data": {
      "text/plain": [
       "PosixPath('/home/mix/Documents/SagasuSubs/providers/assrt')"
      ]
     },
     "execution_count": 2,
     "metadata": {},
     "output_type": "execute_result"
    }
   ],
   "source": [
    "from __future__ import annotations\n",
    "\n",
    "import os\n",
    "from pathlib import Path\n",
    "\n",
    "Path().absolute()"
   ]
  },
  {
   "cell_type": "code",
   "execution_count": 3,
   "metadata": {},
   "outputs": [],
   "source": [
    "SUBTITLE_PATH = Path().absolute() / 'downloads'/ 'subtitle'\n",
    "\n",
    "assert SUBTITLE_PATH.is_dir()"
   ]
  },
  {
   "cell_type": "code",
   "execution_count": 4,
   "metadata": {},
   "outputs": [
    {
     "data": {
      "text/plain": [
       "[('bztar', ['.tar.bz2', '.tbz2'], \"bzip2'ed tar-file\"),\n",
       " ('gztar', ['.tar.gz', '.tgz'], \"gzip'ed tar-file\"),\n",
       " ('rar', ['.rar'], ''),\n",
       " ('tar', ['.tar'], 'uncompressed tar file'),\n",
       " ('xztar', ['.tar.xz', '.txz'], \"xz'ed tar-file\"),\n",
       " ('zip', ['.zip'], 'ZIP file')]"
      ]
     },
     "execution_count": 4,
     "metadata": {},
     "output_type": "execute_result"
    }
   ],
   "source": [
    "import rarfile\n",
    "import shutil\n",
    "\n",
    "\n",
    "def _extract_rar(filename, extract_dir):\n",
    "    try:\n",
    "        rar = rarfile.RarFile(filename)\n",
    "    except rarfile.Error as e:\n",
    "        raise shutil.ReadError(f\"{filename} is not a valid rar file\") from e\n",
    "    try:\n",
    "        rar.extractall(extract_dir)\n",
    "    finally:\n",
    "        rar.close()\n",
    "\n",
    "\n",
    "shutil.register_unpack_format(\"rar\", [\".rar\"], _extract_rar)\n",
    "shutil.get_unpack_formats()"
   ]
  },
  {
   "cell_type": "code",
   "execution_count": 5,
   "metadata": {},
   "outputs": [
    {
     "data": {
      "text/plain": [
       "([PosixPath('/home/mix/Documents/SagasuSubs/providers/assrt/downloads/subtitle/100023/downloads/_140530__PoRO___________________________________________________________________________________________________________________________________________________________________.zip'),\n",
       "  PosixPath('/home/mix/Documents/SagasuSubs/providers/assrt/downloads/subtitle/100040/downloads/[Airota&VCB-Studio] Sora no Method [01-13+OVA] [CHT].rar'),\n",
       "  PosixPath('/home/mix/Documents/SagasuSubs/providers/assrt/downloads/subtitle/100040/downloads/[FLsnow&SumiSora][Sora_no_Method][BDRIP][01-13+SP][GB+BIG5][ASS][SUB].rar')],\n",
       " 11977)"
      ]
     },
     "execution_count": 5,
     "metadata": {},
     "output_type": "execute_result"
    }
   ],
   "source": [
    "AVAILABLE_UNPACK_EXTS = {}\n",
    "for name, exts, desc in shutil.get_unpack_formats():\n",
    "    for ext in exts:\n",
    "        AVAILABLE_UNPACK_EXTS[ext] = name\n",
    "\n",
    "archive_files: list[Path] = []\n",
    "\n",
    "for dir, _, files in os.walk(SUBTITLE_PATH):\n",
    "    for file in files:\n",
    "        path = SUBTITLE_PATH / dir / file\n",
    "        name, ext = os.path.splitext(path.name)\n",
    "        if ext in AVAILABLE_UNPACK_EXTS:\n",
    "            archive_files.append(path)\n",
    "\n",
    "archive_files[:3], len(archive_files)"
   ]
  },
  {
   "cell_type": "code",
   "execution_count": null,
   "metadata": {},
   "outputs": [],
   "source": [
    "from tqdm.notebook import tqdm\n",
    "from collections import defaultdict\n",
    "\n",
    "progress = tqdm({*archive_files})\n",
    "\n",
    "_finish_count = defaultdict(int)\n",
    "\n",
    "for archive_file in progress:\n",
    "    archive_file: Path\n",
    "    name, ext = os.path.splitext(archive_file.name)\n",
    "    extract_target = archive_file.parent / name\n",
    "    relative_path = archive_file.relative_to(SUBTITLE_PATH)\n",
    "    if extract_target.is_dir():\n",
    "        shutil.rmtree(extract_target)\n",
    "    progress.set_description(\n",
    "        \"succeed extracted: \" + \"\\t\".join(f\"{k}={v}\" for k, v in _finish_count.items())\n",
    "    )\n",
    "    try:\n",
    "        shutil.unpack_archive(archive_file, extract_target)\n",
    "    except Exception as e:\n",
    "        print(f\"--> {relative_path.name!r} unpack failed, read error: {e!r}\")\n",
    "    else:\n",
    "        _finish_count[AVAILABLE_UNPACK_EXTS[ext]] += 1"
   ]
  }
 ],
 "metadata": {
  "interpreter": {
   "hash": "b1925f3c3fa615482c2bef0a8fc8a93ff8264c0caf5eb74d0456e26593f66a51"
  },
  "kernelspec": {
   "display_name": "Python 3.10.1 64-bit ('.venv': poetry)",
   "language": "python",
   "name": "python3"
  },
  "language_info": {
   "codemirror_mode": {
    "name": "ipython",
    "version": 3
   },
   "file_extension": ".py",
   "mimetype": "text/x-python",
   "name": "python",
   "nbconvert_exporter": "python",
   "pygments_lexer": "ipython3",
   "version": "3.10.1"
  },
  "orig_nbformat": 4
 },
 "nbformat": 4,
 "nbformat_minor": 2
}
